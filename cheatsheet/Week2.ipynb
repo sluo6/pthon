{
 "cells": [
  {
   "cell_type": "markdown",
   "metadata": {},
   "source": [
    "# Basic Plotting with matplotlib"
   ]
  },
  {
   "cell_type": "markdown",
   "metadata": {},
   "source": [
    "You can show matplotlib figures directly in the notebook by using the `%matplotlib notebook` and `%matplotlib inline` magic commands. \n",
    "\n",
    "`%matplotlib notebook` provides an interactive environment."
   ]
  },
  {
   "cell_type": "code",
   "execution_count": null,
   "metadata": {
    "collapsed": false
   },
   "outputs": [],
   "source": [
    "%matplotlib notebook"
   ]
  },
  {
   "cell_type": "code",
   "execution_count": null,
   "metadata": {
    "collapsed": false
   },
   "outputs": [],
   "source": [
    "import matplotlib as mpl\n",
    "mpl.get_backend()"
   ]
  },
  {
   "cell_type": "code",
   "execution_count": null,
   "metadata": {
    "collapsed": false
   },
   "outputs": [],
   "source": [
    "import matplotlib.pyplot as plt\n",
    "plt.plot?"
   ]
  },
  {
   "cell_type": "code",
   "execution_count": null,
   "metadata": {
    "collapsed": false
   },
   "outputs": [],
   "source": [
    "# because the default is the line style '-', \n",
    "# nothing will be shown if we only pass in one point (3,2)\n",
    "plt.plot(3, 2)"
   ]
  },
  {
   "cell_type": "code",
   "execution_count": null,
   "metadata": {
    "collapsed": false
   },
   "outputs": [],
   "source": [
    "# we can pass in '.' to plt.plot to indicate that we want\n",
    "# the point (3,2) to be indicated with a marker '.'\n",
    "plt.plot(3, 2, '.')"
   ]
  },
  {
   "cell_type": "markdown",
   "metadata": {},
   "source": [
    "Let's see how to make a plot without using the scripting layer."
   ]
  },
  {
   "cell_type": "code",
   "execution_count": null,
   "metadata": {
    "collapsed": false
   },
   "outputs": [],
   "source": [
    "# First let's set the backend without using mpl.use() from the scripting layer\n",
    "from matplotlib.backends.backend_agg import FigureCanvasAgg\n",
    "from matplotlib.figure import Figure\n",
    "\n",
    "# create a new figure\n",
    "fig = Figure()\n",
    "\n",
    "# associate fig with the backend\n",
    "canvas = FigureCanvasAgg(fig)\n",
    "\n",
    "# add a subplot to the fig\n",
    "ax = fig.add_subplot(111)\n",
    "\n",
    "# plot the point (3,2)\n",
    "ax.plot(3, 2, '.')\n",
    "\n",
    "# save the figure to test.png\n",
    "# you can see this figure in your Jupyter workspace afterwards by going to\n",
    "# https://hub.coursera-notebooks.org/\n",
    "canvas.print_png('test.png')"
   ]
  },
  {
   "cell_type": "markdown",
   "metadata": {},
   "source": [
    "We can use html cell magic to display the image."
   ]
  },
  {
   "cell_type": "code",
   "execution_count": null,
   "metadata": {
    "collapsed": false
   },
   "outputs": [],
   "source": [
    "%%html\n",
    "<img src='test.png' />"
   ]
  },
  {
   "cell_type": "code",
   "execution_count": null,
   "metadata": {
    "collapsed": false
   },
   "outputs": [],
   "source": [
    "# create a new figure\n",
    "plt.figure()\n",
    "\n",
    "# plot the point (3,2) using the circle marker\n",
    "plt.plot(3, 2, 'o')\n",
    "\n",
    "# get the current axes\n",
    "ax = plt.gca()\n",
    "\n",
    "# Set axis properties [xmin, xmax, ymin, ymax]\n",
    "ax.axis([0,6,0,10])"
   ]
  },
  {
   "cell_type": "code",
   "execution_count": null,
   "metadata": {
    "collapsed": false
   },
   "outputs": [],
   "source": [
    "# create a new figure\n",
    "plt.figure()\n",
    "\n",
    "# plot the point (1.5, 1.5) using the circle marker\n",
    "plt.plot(1.5, 1.5, 'o')\n",
    "# plot the point (2, 2) using the circle marker\n",
    "plt.plot(2, 2, 'o')\n",
    "# plot the point (2.5, 2.5) using the circle marker\n",
    "plt.plot(2.5, 2.5, 'o')"
   ]
  },
  {
   "cell_type": "code",
   "execution_count": null,
   "metadata": {
    "collapsed": false
   },
   "outputs": [],
   "source": [
    "# get current axes\n",
    "ax = plt.gca()\n",
    "# get all the child objects the axes contains\n",
    "ax.get_children()"
   ]
  },
  {
   "cell_type": "markdown",
   "metadata": {},
   "source": [
    "# Scatterplots"
   ]
  },
  {
   "cell_type": "code",
   "execution_count": null,
   "metadata": {
    "collapsed": false,
    "scrolled": false
   },
   "outputs": [],
   "source": [
    "import numpy as np\n",
    "\n",
    "x = np.array([1,2,3,4,5,6,7,8])\n",
    "y = x\n",
    "\n",
    "plt.figure()\n",
    "plt.scatter(x, y) # similar to plt.plot(x, y, '.'), but the underlying child objects in the axes are not Line2D"
   ]
  },
  {
   "cell_type": "code",
   "execution_count": null,
   "metadata": {
    "collapsed": false
   },
   "outputs": [],
   "source": [
    "import numpy as np\n",
    "\n",
    "x = np.array([1,2,3,4,5,6,7,8])\n",
    "y = x\n",
    "\n",
    "# create a list of colors for each point to have\n",
    "# ['green', 'green', 'green', 'green', 'green', 'green', 'green', 'red']\n",
    "colors = ['green']*(len(x)-1)\n",
    "colors.append('red')\n",
    "\n",
    "plt.figure()\n",
    "\n",
    "# plot the point with size 100 and chosen colors\n",
    "plt.scatter(x, y, s=100, c=colors)"
   ]
  },
  {
   "cell_type": "code",
   "execution_count": null,
   "metadata": {
    "collapsed": false
   },
   "outputs": [],
   "source": [
    "# convert the two lists into a list of pairwise tuples\n",
    "zip_generator = zip([1,2,3,4,5], [6,7,8,9,10])\n",
    "\n",
    "print(list(zip_generator))\n",
    "# the above prints:\n",
    "# [(1, 6), (2, 7), (3, 8), (4, 9), (5, 10)]\n",
    "\n",
    "zip_generator = zip([1,2,3,4,5], [6,7,8,9,10])\n",
    "# The single star * unpacks a collection into positional arguments\n",
    "print(*zip_generator)\n",
    "# the above prints:\n",
    "# (1, 6) (2, 7) (3, 8) (4, 9) (5, 10)"
   ]
  },
  {
   "cell_type": "code",
   "execution_count": null,
   "metadata": {
    "collapsed": false
   },
   "outputs": [],
   "source": [
    "# use zip to convert 5 tuples with 2 elements each to 2 tuples with 5 elements each\n",
    "print(list(zip((1, 6), (2, 7), (3, 8), (4, 9), (5, 10))))\n",
    "# the above prints:\n",
    "# [(1, 2, 3, 4, 5), (6, 7, 8, 9, 10)]\n",
    "\n",
    "\n",
    "zip_generator = zip([1,2,3,4,5], [6,7,8,9,10])\n",
    "# let's turn the data back into 2 lists\n",
    "x, y = zip(*zip_generator) # This is like calling zip((1, 6), (2, 7), (3, 8), (4, 9), (5, 10))\n",
    "print(x)\n",
    "print(y)\n",
    "# the above prints:\n",
    "# (1, 2, 3, 4, 5)\n",
    "# (6, 7, 8, 9, 10)"
   ]
  },
  {
   "cell_type": "code",
   "execution_count": 30,
   "metadata": {
    "collapsed": false
   },
   "outputs": [
    {
     "data": {
      "application/javascript": [
       "/* Put everything inside the global mpl namespace */\n",
       "window.mpl = {};\n",
       "\n",
       "\n",
       "mpl.get_websocket_type = function() {\n",
       "    if (typeof(WebSocket) !== 'undefined') {\n",
       "        return WebSocket;\n",
       "    } else if (typeof(MozWebSocket) !== 'undefined') {\n",
       "        return MozWebSocket;\n",
       "    } else {\n",
       "        alert('Your browser does not have WebSocket support.' +\n",
       "              'Please try Chrome, Safari or Firefox ≥ 6. ' +\n",
       "              'Firefox 4 and 5 are also supported but you ' +\n",
       "              'have to enable WebSockets in about:config.');\n",
       "    };\n",
       "}\n",
       "\n",
       "mpl.figure = function(figure_id, websocket, ondownload, parent_element) {\n",
       "    this.id = figure_id;\n",
       "\n",
       "    this.ws = websocket;\n",
       "\n",
       "    this.supports_binary = (this.ws.binaryType != undefined);\n",
       "\n",
       "    if (!this.supports_binary) {\n",
       "        var warnings = document.getElementById(\"mpl-warnings\");\n",
       "        if (warnings) {\n",
       "            warnings.style.display = 'block';\n",
       "            warnings.textContent = (\n",
       "                \"This browser does not support binary websocket messages. \" +\n",
       "                    \"Performance may be slow.\");\n",
       "        }\n",
       "    }\n",
       "\n",
       "    this.imageObj = new Image();\n",
       "\n",
       "    this.context = undefined;\n",
       "    this.message = undefined;\n",
       "    this.canvas = undefined;\n",
       "    this.rubberband_canvas = undefined;\n",
       "    this.rubberband_context = undefined;\n",
       "    this.format_dropdown = undefined;\n",
       "\n",
       "    this.image_mode = 'full';\n",
       "\n",
       "    this.root = $('<div/>');\n",
       "    this._root_extra_style(this.root)\n",
       "    this.root.attr('style', 'display: inline-block');\n",
       "\n",
       "    $(parent_element).append(this.root);\n",
       "\n",
       "    this._init_header(this);\n",
       "    this._init_canvas(this);\n",
       "    this._init_toolbar(this);\n",
       "\n",
       "    var fig = this;\n",
       "\n",
       "    this.waiting = false;\n",
       "\n",
       "    this.ws.onopen =  function () {\n",
       "            fig.send_message(\"supports_binary\", {value: fig.supports_binary});\n",
       "            fig.send_message(\"send_image_mode\", {});\n",
       "            if (mpl.ratio != 1) {\n",
       "                fig.send_message(\"set_dpi_ratio\", {'dpi_ratio': mpl.ratio});\n",
       "            }\n",
       "            fig.send_message(\"refresh\", {});\n",
       "        }\n",
       "\n",
       "    this.imageObj.onload = function() {\n",
       "            if (fig.image_mode == 'full') {\n",
       "                // Full images could contain transparency (where diff images\n",
       "                // almost always do), so we need to clear the canvas so that\n",
       "                // there is no ghosting.\n",
       "                fig.context.clearRect(0, 0, fig.canvas.width, fig.canvas.height);\n",
       "            }\n",
       "            fig.context.drawImage(fig.imageObj, 0, 0);\n",
       "        };\n",
       "\n",
       "    this.imageObj.onunload = function() {\n",
       "        this.ws.close();\n",
       "    }\n",
       "\n",
       "    this.ws.onmessage = this._make_on_message_function(this);\n",
       "\n",
       "    this.ondownload = ondownload;\n",
       "}\n",
       "\n",
       "mpl.figure.prototype._init_header = function() {\n",
       "    var titlebar = $(\n",
       "        '<div class=\"ui-dialog-titlebar ui-widget-header ui-corner-all ' +\n",
       "        'ui-helper-clearfix\"/>');\n",
       "    var titletext = $(\n",
       "        '<div class=\"ui-dialog-title\" style=\"width: 100%; ' +\n",
       "        'text-align: center; padding: 3px;\"/>');\n",
       "    titlebar.append(titletext)\n",
       "    this.root.append(titlebar);\n",
       "    this.header = titletext[0];\n",
       "}\n",
       "\n",
       "\n",
       "\n",
       "mpl.figure.prototype._canvas_extra_style = function(canvas_div) {\n",
       "\n",
       "}\n",
       "\n",
       "\n",
       "mpl.figure.prototype._root_extra_style = function(canvas_div) {\n",
       "\n",
       "}\n",
       "\n",
       "mpl.figure.prototype._init_canvas = function() {\n",
       "    var fig = this;\n",
       "\n",
       "    var canvas_div = $('<div/>');\n",
       "\n",
       "    canvas_div.attr('style', 'position: relative; clear: both; outline: 0');\n",
       "\n",
       "    function canvas_keyboard_event(event) {\n",
       "        return fig.key_event(event, event['data']);\n",
       "    }\n",
       "\n",
       "    canvas_div.keydown('key_press', canvas_keyboard_event);\n",
       "    canvas_div.keyup('key_release', canvas_keyboard_event);\n",
       "    this.canvas_div = canvas_div\n",
       "    this._canvas_extra_style(canvas_div)\n",
       "    this.root.append(canvas_div);\n",
       "\n",
       "    var canvas = $('<canvas/>');\n",
       "    canvas.addClass('mpl-canvas');\n",
       "    canvas.attr('style', \"left: 0; top: 0; z-index: 0; outline: 0\")\n",
       "\n",
       "    this.canvas = canvas[0];\n",
       "    this.context = canvas[0].getContext(\"2d\");\n",
       "\n",
       "    var backingStore = this.context.backingStorePixelRatio ||\n",
       "\tthis.context.webkitBackingStorePixelRatio ||\n",
       "\tthis.context.mozBackingStorePixelRatio ||\n",
       "\tthis.context.msBackingStorePixelRatio ||\n",
       "\tthis.context.oBackingStorePixelRatio ||\n",
       "\tthis.context.backingStorePixelRatio || 1;\n",
       "\n",
       "    mpl.ratio = (window.devicePixelRatio || 1) / backingStore;\n",
       "\n",
       "    var rubberband = $('<canvas/>');\n",
       "    rubberband.attr('style', \"position: absolute; left: 0; top: 0; z-index: 1;\")\n",
       "\n",
       "    var pass_mouse_events = true;\n",
       "\n",
       "    canvas_div.resizable({\n",
       "        start: function(event, ui) {\n",
       "            pass_mouse_events = false;\n",
       "        },\n",
       "        resize: function(event, ui) {\n",
       "            fig.request_resize(ui.size.width, ui.size.height);\n",
       "        },\n",
       "        stop: function(event, ui) {\n",
       "            pass_mouse_events = true;\n",
       "            fig.request_resize(ui.size.width, ui.size.height);\n",
       "        },\n",
       "    });\n",
       "\n",
       "    function mouse_event_fn(event) {\n",
       "        if (pass_mouse_events)\n",
       "            return fig.mouse_event(event, event['data']);\n",
       "    }\n",
       "\n",
       "    rubberband.mousedown('button_press', mouse_event_fn);\n",
       "    rubberband.mouseup('button_release', mouse_event_fn);\n",
       "    // Throttle sequential mouse events to 1 every 20ms.\n",
       "    rubberband.mousemove('motion_notify', mouse_event_fn);\n",
       "\n",
       "    rubberband.mouseenter('figure_enter', mouse_event_fn);\n",
       "    rubberband.mouseleave('figure_leave', mouse_event_fn);\n",
       "\n",
       "    canvas_div.on(\"wheel\", function (event) {\n",
       "        event = event.originalEvent;\n",
       "        event['data'] = 'scroll'\n",
       "        if (event.deltaY < 0) {\n",
       "            event.step = 1;\n",
       "        } else {\n",
       "            event.step = -1;\n",
       "        }\n",
       "        mouse_event_fn(event);\n",
       "    });\n",
       "\n",
       "    canvas_div.append(canvas);\n",
       "    canvas_div.append(rubberband);\n",
       "\n",
       "    this.rubberband = rubberband;\n",
       "    this.rubberband_canvas = rubberband[0];\n",
       "    this.rubberband_context = rubberband[0].getContext(\"2d\");\n",
       "    this.rubberband_context.strokeStyle = \"#000000\";\n",
       "\n",
       "    this._resize_canvas = function(width, height) {\n",
       "        // Keep the size of the canvas, canvas container, and rubber band\n",
       "        // canvas in synch.\n",
       "        canvas_div.css('width', width)\n",
       "        canvas_div.css('height', height)\n",
       "\n",
       "        canvas.attr('width', width * mpl.ratio);\n",
       "        canvas.attr('height', height * mpl.ratio);\n",
       "        canvas.attr('style', 'width: ' + width + 'px; height: ' + height + 'px;');\n",
       "\n",
       "        rubberband.attr('width', width);\n",
       "        rubberband.attr('height', height);\n",
       "    }\n",
       "\n",
       "    // Set the figure to an initial 600x600px, this will subsequently be updated\n",
       "    // upon first draw.\n",
       "    this._resize_canvas(600, 600);\n",
       "\n",
       "    // Disable right mouse context menu.\n",
       "    $(this.rubberband_canvas).bind(\"contextmenu\",function(e){\n",
       "        return false;\n",
       "    });\n",
       "\n",
       "    function set_focus () {\n",
       "        canvas.focus();\n",
       "        canvas_div.focus();\n",
       "    }\n",
       "\n",
       "    window.setTimeout(set_focus, 100);\n",
       "}\n",
       "\n",
       "mpl.figure.prototype._init_toolbar = function() {\n",
       "    var fig = this;\n",
       "\n",
       "    var nav_element = $('<div/>')\n",
       "    nav_element.attr('style', 'width: 100%');\n",
       "    this.root.append(nav_element);\n",
       "\n",
       "    // Define a callback function for later on.\n",
       "    function toolbar_event(event) {\n",
       "        return fig.toolbar_button_onclick(event['data']);\n",
       "    }\n",
       "    function toolbar_mouse_event(event) {\n",
       "        return fig.toolbar_button_onmouseover(event['data']);\n",
       "    }\n",
       "\n",
       "    for(var toolbar_ind in mpl.toolbar_items) {\n",
       "        var name = mpl.toolbar_items[toolbar_ind][0];\n",
       "        var tooltip = mpl.toolbar_items[toolbar_ind][1];\n",
       "        var image = mpl.toolbar_items[toolbar_ind][2];\n",
       "        var method_name = mpl.toolbar_items[toolbar_ind][3];\n",
       "\n",
       "        if (!name) {\n",
       "            // put a spacer in here.\n",
       "            continue;\n",
       "        }\n",
       "        var button = $('<button/>');\n",
       "        button.addClass('ui-button ui-widget ui-state-default ui-corner-all ' +\n",
       "                        'ui-button-icon-only');\n",
       "        button.attr('role', 'button');\n",
       "        button.attr('aria-disabled', 'false');\n",
       "        button.click(method_name, toolbar_event);\n",
       "        button.mouseover(tooltip, toolbar_mouse_event);\n",
       "\n",
       "        var icon_img = $('<span/>');\n",
       "        icon_img.addClass('ui-button-icon-primary ui-icon');\n",
       "        icon_img.addClass(image);\n",
       "        icon_img.addClass('ui-corner-all');\n",
       "\n",
       "        var tooltip_span = $('<span/>');\n",
       "        tooltip_span.addClass('ui-button-text');\n",
       "        tooltip_span.html(tooltip);\n",
       "\n",
       "        button.append(icon_img);\n",
       "        button.append(tooltip_span);\n",
       "\n",
       "        nav_element.append(button);\n",
       "    }\n",
       "\n",
       "    var fmt_picker_span = $('<span/>');\n",
       "\n",
       "    var fmt_picker = $('<select/>');\n",
       "    fmt_picker.addClass('mpl-toolbar-option ui-widget ui-widget-content');\n",
       "    fmt_picker_span.append(fmt_picker);\n",
       "    nav_element.append(fmt_picker_span);\n",
       "    this.format_dropdown = fmt_picker[0];\n",
       "\n",
       "    for (var ind in mpl.extensions) {\n",
       "        var fmt = mpl.extensions[ind];\n",
       "        var option = $(\n",
       "            '<option/>', {selected: fmt === mpl.default_extension}).html(fmt);\n",
       "        fmt_picker.append(option)\n",
       "    }\n",
       "\n",
       "    // Add hover states to the ui-buttons\n",
       "    $( \".ui-button\" ).hover(\n",
       "        function() { $(this).addClass(\"ui-state-hover\");},\n",
       "        function() { $(this).removeClass(\"ui-state-hover\");}\n",
       "    );\n",
       "\n",
       "    var status_bar = $('<span class=\"mpl-message\"/>');\n",
       "    nav_element.append(status_bar);\n",
       "    this.message = status_bar[0];\n",
       "}\n",
       "\n",
       "mpl.figure.prototype.request_resize = function(x_pixels, y_pixels) {\n",
       "    // Request matplotlib to resize the figure. Matplotlib will then trigger a resize in the client,\n",
       "    // which will in turn request a refresh of the image.\n",
       "    this.send_message('resize', {'width': x_pixels, 'height': y_pixels});\n",
       "}\n",
       "\n",
       "mpl.figure.prototype.send_message = function(type, properties) {\n",
       "    properties['type'] = type;\n",
       "    properties['figure_id'] = this.id;\n",
       "    this.ws.send(JSON.stringify(properties));\n",
       "}\n",
       "\n",
       "mpl.figure.prototype.send_draw_message = function() {\n",
       "    if (!this.waiting) {\n",
       "        this.waiting = true;\n",
       "        this.ws.send(JSON.stringify({type: \"draw\", figure_id: this.id}));\n",
       "    }\n",
       "}\n",
       "\n",
       "\n",
       "mpl.figure.prototype.handle_save = function(fig, msg) {\n",
       "    var format_dropdown = fig.format_dropdown;\n",
       "    var format = format_dropdown.options[format_dropdown.selectedIndex].value;\n",
       "    fig.ondownload(fig, format);\n",
       "}\n",
       "\n",
       "\n",
       "mpl.figure.prototype.handle_resize = function(fig, msg) {\n",
       "    var size = msg['size'];\n",
       "    if (size[0] != fig.canvas.width || size[1] != fig.canvas.height) {\n",
       "        fig._resize_canvas(size[0], size[1]);\n",
       "        fig.send_message(\"refresh\", {});\n",
       "    };\n",
       "}\n",
       "\n",
       "mpl.figure.prototype.handle_rubberband = function(fig, msg) {\n",
       "    var x0 = msg['x0'] / mpl.ratio;\n",
       "    var y0 = (fig.canvas.height - msg['y0']) / mpl.ratio;\n",
       "    var x1 = msg['x1'] / mpl.ratio;\n",
       "    var y1 = (fig.canvas.height - msg['y1']) / mpl.ratio;\n",
       "    x0 = Math.floor(x0) + 0.5;\n",
       "    y0 = Math.floor(y0) + 0.5;\n",
       "    x1 = Math.floor(x1) + 0.5;\n",
       "    y1 = Math.floor(y1) + 0.5;\n",
       "    var min_x = Math.min(x0, x1);\n",
       "    var min_y = Math.min(y0, y1);\n",
       "    var width = Math.abs(x1 - x0);\n",
       "    var height = Math.abs(y1 - y0);\n",
       "\n",
       "    fig.rubberband_context.clearRect(\n",
       "        0, 0, fig.canvas.width, fig.canvas.height);\n",
       "\n",
       "    fig.rubberband_context.strokeRect(min_x, min_y, width, height);\n",
       "}\n",
       "\n",
       "mpl.figure.prototype.handle_figure_label = function(fig, msg) {\n",
       "    // Updates the figure title.\n",
       "    fig.header.textContent = msg['label'];\n",
       "}\n",
       "\n",
       "mpl.figure.prototype.handle_cursor = function(fig, msg) {\n",
       "    var cursor = msg['cursor'];\n",
       "    switch(cursor)\n",
       "    {\n",
       "    case 0:\n",
       "        cursor = 'pointer';\n",
       "        break;\n",
       "    case 1:\n",
       "        cursor = 'default';\n",
       "        break;\n",
       "    case 2:\n",
       "        cursor = 'crosshair';\n",
       "        break;\n",
       "    case 3:\n",
       "        cursor = 'move';\n",
       "        break;\n",
       "    }\n",
       "    fig.rubberband_canvas.style.cursor = cursor;\n",
       "}\n",
       "\n",
       "mpl.figure.prototype.handle_message = function(fig, msg) {\n",
       "    fig.message.textContent = msg['message'];\n",
       "}\n",
       "\n",
       "mpl.figure.prototype.handle_draw = function(fig, msg) {\n",
       "    // Request the server to send over a new figure.\n",
       "    fig.send_draw_message();\n",
       "}\n",
       "\n",
       "mpl.figure.prototype.handle_image_mode = function(fig, msg) {\n",
       "    fig.image_mode = msg['mode'];\n",
       "}\n",
       "\n",
       "mpl.figure.prototype.updated_canvas_event = function() {\n",
       "    // Called whenever the canvas gets updated.\n",
       "    this.send_message(\"ack\", {});\n",
       "}\n",
       "\n",
       "// A function to construct a web socket function for onmessage handling.\n",
       "// Called in the figure constructor.\n",
       "mpl.figure.prototype._make_on_message_function = function(fig) {\n",
       "    return function socket_on_message(evt) {\n",
       "        if (evt.data instanceof Blob) {\n",
       "            /* FIXME: We get \"Resource interpreted as Image but\n",
       "             * transferred with MIME type text/plain:\" errors on\n",
       "             * Chrome.  But how to set the MIME type?  It doesn't seem\n",
       "             * to be part of the websocket stream */\n",
       "            evt.data.type = \"image/png\";\n",
       "\n",
       "            /* Free the memory for the previous frames */\n",
       "            if (fig.imageObj.src) {\n",
       "                (window.URL || window.webkitURL).revokeObjectURL(\n",
       "                    fig.imageObj.src);\n",
       "            }\n",
       "\n",
       "            fig.imageObj.src = (window.URL || window.webkitURL).createObjectURL(\n",
       "                evt.data);\n",
       "            fig.updated_canvas_event();\n",
       "            fig.waiting = false;\n",
       "            return;\n",
       "        }\n",
       "        else if (typeof evt.data === 'string' && evt.data.slice(0, 21) == \"data:image/png;base64\") {\n",
       "            fig.imageObj.src = evt.data;\n",
       "            fig.updated_canvas_event();\n",
       "            fig.waiting = false;\n",
       "            return;\n",
       "        }\n",
       "\n",
       "        var msg = JSON.parse(evt.data);\n",
       "        var msg_type = msg['type'];\n",
       "\n",
       "        // Call the  \"handle_{type}\" callback, which takes\n",
       "        // the figure and JSON message as its only arguments.\n",
       "        try {\n",
       "            var callback = fig[\"handle_\" + msg_type];\n",
       "        } catch (e) {\n",
       "            console.log(\"No handler for the '\" + msg_type + \"' message type: \", msg);\n",
       "            return;\n",
       "        }\n",
       "\n",
       "        if (callback) {\n",
       "            try {\n",
       "                // console.log(\"Handling '\" + msg_type + \"' message: \", msg);\n",
       "                callback(fig, msg);\n",
       "            } catch (e) {\n",
       "                console.log(\"Exception inside the 'handler_\" + msg_type + \"' callback:\", e, e.stack, msg);\n",
       "            }\n",
       "        }\n",
       "    };\n",
       "}\n",
       "\n",
       "// from http://stackoverflow.com/questions/1114465/getting-mouse-location-in-canvas\n",
       "mpl.findpos = function(e) {\n",
       "    //this section is from http://www.quirksmode.org/js/events_properties.html\n",
       "    var targ;\n",
       "    if (!e)\n",
       "        e = window.event;\n",
       "    if (e.target)\n",
       "        targ = e.target;\n",
       "    else if (e.srcElement)\n",
       "        targ = e.srcElement;\n",
       "    if (targ.nodeType == 3) // defeat Safari bug\n",
       "        targ = targ.parentNode;\n",
       "\n",
       "    // jQuery normalizes the pageX and pageY\n",
       "    // pageX,Y are the mouse positions relative to the document\n",
       "    // offset() returns the position of the element relative to the document\n",
       "    var x = e.pageX - $(targ).offset().left;\n",
       "    var y = e.pageY - $(targ).offset().top;\n",
       "\n",
       "    return {\"x\": x, \"y\": y};\n",
       "};\n",
       "\n",
       "/*\n",
       " * return a copy of an object with only non-object keys\n",
       " * we need this to avoid circular references\n",
       " * http://stackoverflow.com/a/24161582/3208463\n",
       " */\n",
       "function simpleKeys (original) {\n",
       "  return Object.keys(original).reduce(function (obj, key) {\n",
       "    if (typeof original[key] !== 'object')\n",
       "        obj[key] = original[key]\n",
       "    return obj;\n",
       "  }, {});\n",
       "}\n",
       "\n",
       "mpl.figure.prototype.mouse_event = function(event, name) {\n",
       "    var canvas_pos = mpl.findpos(event)\n",
       "\n",
       "    if (name === 'button_press')\n",
       "    {\n",
       "        this.canvas.focus();\n",
       "        this.canvas_div.focus();\n",
       "    }\n",
       "\n",
       "    var x = canvas_pos.x * mpl.ratio;\n",
       "    var y = canvas_pos.y * mpl.ratio;\n",
       "\n",
       "    this.send_message(name, {x: x, y: y, button: event.button,\n",
       "                             step: event.step,\n",
       "                             guiEvent: simpleKeys(event)});\n",
       "\n",
       "    /* This prevents the web browser from automatically changing to\n",
       "     * the text insertion cursor when the button is pressed.  We want\n",
       "     * to control all of the cursor setting manually through the\n",
       "     * 'cursor' event from matplotlib */\n",
       "    event.preventDefault();\n",
       "    return false;\n",
       "}\n",
       "\n",
       "mpl.figure.prototype._key_event_extra = function(event, name) {\n",
       "    // Handle any extra behaviour associated with a key event\n",
       "}\n",
       "\n",
       "mpl.figure.prototype.key_event = function(event, name) {\n",
       "\n",
       "    // Prevent repeat events\n",
       "    if (name == 'key_press')\n",
       "    {\n",
       "        if (event.which === this._key)\n",
       "            return;\n",
       "        else\n",
       "            this._key = event.which;\n",
       "    }\n",
       "    if (name == 'key_release')\n",
       "        this._key = null;\n",
       "\n",
       "    var value = '';\n",
       "    if (event.ctrlKey && event.which != 17)\n",
       "        value += \"ctrl+\";\n",
       "    if (event.altKey && event.which != 18)\n",
       "        value += \"alt+\";\n",
       "    if (event.shiftKey && event.which != 16)\n",
       "        value += \"shift+\";\n",
       "\n",
       "    value += 'k';\n",
       "    value += event.which.toString();\n",
       "\n",
       "    this._key_event_extra(event, name);\n",
       "\n",
       "    this.send_message(name, {key: value,\n",
       "                             guiEvent: simpleKeys(event)});\n",
       "    return false;\n",
       "}\n",
       "\n",
       "mpl.figure.prototype.toolbar_button_onclick = function(name) {\n",
       "    if (name == 'download') {\n",
       "        this.handle_save(this, null);\n",
       "    } else {\n",
       "        this.send_message(\"toolbar_button\", {name: name});\n",
       "    }\n",
       "};\n",
       "\n",
       "mpl.figure.prototype.toolbar_button_onmouseover = function(tooltip) {\n",
       "    this.message.textContent = tooltip;\n",
       "};\n",
       "mpl.toolbar_items = [[\"Home\", \"Reset original view\", \"fa fa-home icon-home\", \"home\"], [\"Back\", \"Back to  previous view\", \"fa fa-arrow-left icon-arrow-left\", \"back\"], [\"Forward\", \"Forward to next view\", \"fa fa-arrow-right icon-arrow-right\", \"forward\"], [\"\", \"\", \"\", \"\"], [\"Pan\", \"Pan axes with left mouse, zoom with right\", \"fa fa-arrows icon-move\", \"pan\"], [\"Zoom\", \"Zoom to rectangle\", \"fa fa-square-o icon-check-empty\", \"zoom\"], [\"\", \"\", \"\", \"\"], [\"Download\", \"Download plot\", \"fa fa-floppy-o icon-save\", \"download\"]];\n",
       "\n",
       "mpl.extensions = [\"eps\", \"jpeg\", \"pdf\", \"png\", \"ps\", \"raw\", \"svg\", \"tif\"];\n",
       "\n",
       "mpl.default_extension = \"png\";var comm_websocket_adapter = function(comm) {\n",
       "    // Create a \"websocket\"-like object which calls the given IPython comm\n",
       "    // object with the appropriate methods. Currently this is a non binary\n",
       "    // socket, so there is still some room for performance tuning.\n",
       "    var ws = {};\n",
       "\n",
       "    ws.close = function() {\n",
       "        comm.close()\n",
       "    };\n",
       "    ws.send = function(m) {\n",
       "        //console.log('sending', m);\n",
       "        comm.send(m);\n",
       "    };\n",
       "    // Register the callback with on_msg.\n",
       "    comm.on_msg(function(msg) {\n",
       "        //console.log('receiving', msg['content']['data'], msg);\n",
       "        // Pass the mpl event to the overriden (by mpl) onmessage function.\n",
       "        ws.onmessage(msg['content']['data'])\n",
       "    });\n",
       "    return ws;\n",
       "}\n",
       "\n",
       "mpl.mpl_figure_comm = function(comm, msg) {\n",
       "    // This is the function which gets called when the mpl process\n",
       "    // starts-up an IPython Comm through the \"matplotlib\" channel.\n",
       "\n",
       "    var id = msg.content.data.id;\n",
       "    // Get hold of the div created by the display call when the Comm\n",
       "    // socket was opened in Python.\n",
       "    var element = $(\"#\" + id);\n",
       "    var ws_proxy = comm_websocket_adapter(comm)\n",
       "\n",
       "    function ondownload(figure, format) {\n",
       "        window.open(figure.imageObj.src);\n",
       "    }\n",
       "\n",
       "    var fig = new mpl.figure(id, ws_proxy,\n",
       "                           ondownload,\n",
       "                           element.get(0));\n",
       "\n",
       "    // Call onopen now - mpl needs it, as it is assuming we've passed it a real\n",
       "    // web socket which is closed, not our websocket->open comm proxy.\n",
       "    ws_proxy.onopen();\n",
       "\n",
       "    fig.parent_element = element.get(0);\n",
       "    fig.cell_info = mpl.find_output_cell(\"<div id='\" + id + \"'></div>\");\n",
       "    if (!fig.cell_info) {\n",
       "        console.error(\"Failed to find cell for figure\", id, fig);\n",
       "        return;\n",
       "    }\n",
       "\n",
       "    var output_index = fig.cell_info[2]\n",
       "    var cell = fig.cell_info[0];\n",
       "\n",
       "};\n",
       "\n",
       "mpl.figure.prototype.handle_close = function(fig, msg) {\n",
       "    var width = fig.canvas.width/mpl.ratio\n",
       "    fig.root.unbind('remove')\n",
       "\n",
       "    // Update the output cell to use the data from the current canvas.\n",
       "    fig.push_to_output();\n",
       "    var dataURL = fig.canvas.toDataURL();\n",
       "    // Re-enable the keyboard manager in IPython - without this line, in FF,\n",
       "    // the notebook keyboard shortcuts fail.\n",
       "    IPython.keyboard_manager.enable()\n",
       "    $(fig.parent_element).html('<img src=\"' + dataURL + '\" width=\"' + width + '\">');\n",
       "    fig.close_ws(fig, msg);\n",
       "}\n",
       "\n",
       "mpl.figure.prototype.close_ws = function(fig, msg){\n",
       "    fig.send_message('closing', msg);\n",
       "    // fig.ws.close()\n",
       "}\n",
       "\n",
       "mpl.figure.prototype.push_to_output = function(remove_interactive) {\n",
       "    // Turn the data on the canvas into data in the output cell.\n",
       "    var width = this.canvas.width/mpl.ratio\n",
       "    var dataURL = this.canvas.toDataURL();\n",
       "    this.cell_info[1]['text/html'] = '<img src=\"' + dataURL + '\" width=\"' + width + '\">';\n",
       "}\n",
       "\n",
       "mpl.figure.prototype.updated_canvas_event = function() {\n",
       "    // Tell IPython that the notebook contents must change.\n",
       "    IPython.notebook.set_dirty(true);\n",
       "    this.send_message(\"ack\", {});\n",
       "    var fig = this;\n",
       "    // Wait a second, then push the new image to the DOM so\n",
       "    // that it is saved nicely (might be nice to debounce this).\n",
       "    setTimeout(function () { fig.push_to_output() }, 1000);\n",
       "}\n",
       "\n",
       "mpl.figure.prototype._init_toolbar = function() {\n",
       "    var fig = this;\n",
       "\n",
       "    var nav_element = $('<div/>')\n",
       "    nav_element.attr('style', 'width: 100%');\n",
       "    this.root.append(nav_element);\n",
       "\n",
       "    // Define a callback function for later on.\n",
       "    function toolbar_event(event) {\n",
       "        return fig.toolbar_button_onclick(event['data']);\n",
       "    }\n",
       "    function toolbar_mouse_event(event) {\n",
       "        return fig.toolbar_button_onmouseover(event['data']);\n",
       "    }\n",
       "\n",
       "    for(var toolbar_ind in mpl.toolbar_items){\n",
       "        var name = mpl.toolbar_items[toolbar_ind][0];\n",
       "        var tooltip = mpl.toolbar_items[toolbar_ind][1];\n",
       "        var image = mpl.toolbar_items[toolbar_ind][2];\n",
       "        var method_name = mpl.toolbar_items[toolbar_ind][3];\n",
       "\n",
       "        if (!name) { continue; };\n",
       "\n",
       "        var button = $('<button class=\"btn btn-default\" href=\"#\" title=\"' + name + '\"><i class=\"fa ' + image + ' fa-lg\"></i></button>');\n",
       "        button.click(method_name, toolbar_event);\n",
       "        button.mouseover(tooltip, toolbar_mouse_event);\n",
       "        nav_element.append(button);\n",
       "    }\n",
       "\n",
       "    // Add the status bar.\n",
       "    var status_bar = $('<span class=\"mpl-message\" style=\"text-align:right; float: right;\"/>');\n",
       "    nav_element.append(status_bar);\n",
       "    this.message = status_bar[0];\n",
       "\n",
       "    // Add the close button to the window.\n",
       "    var buttongrp = $('<div class=\"btn-group inline pull-right\"></div>');\n",
       "    var button = $('<button class=\"btn btn-mini btn-primary\" href=\"#\" title=\"Stop Interaction\"><i class=\"fa fa-power-off icon-remove icon-large\"></i></button>');\n",
       "    button.click(function (evt) { fig.handle_close(fig, {}); } );\n",
       "    button.mouseover('Stop Interaction', toolbar_mouse_event);\n",
       "    buttongrp.append(button);\n",
       "    var titlebar = this.root.find($('.ui-dialog-titlebar'));\n",
       "    titlebar.prepend(buttongrp);\n",
       "}\n",
       "\n",
       "mpl.figure.prototype._root_extra_style = function(el){\n",
       "    var fig = this\n",
       "    el.on(\"remove\", function(){\n",
       "\tfig.close_ws(fig, {});\n",
       "    });\n",
       "}\n",
       "\n",
       "mpl.figure.prototype._canvas_extra_style = function(el){\n",
       "    // this is important to make the div 'focusable\n",
       "    el.attr('tabindex', 0)\n",
       "    // reach out to IPython and tell the keyboard manager to turn it's self\n",
       "    // off when our div gets focus\n",
       "\n",
       "    // location in version 3\n",
       "    if (IPython.notebook.keyboard_manager) {\n",
       "        IPython.notebook.keyboard_manager.register_events(el);\n",
       "    }\n",
       "    else {\n",
       "        // location in version 2\n",
       "        IPython.keyboard_manager.register_events(el);\n",
       "    }\n",
       "\n",
       "}\n",
       "\n",
       "mpl.figure.prototype._key_event_extra = function(event, name) {\n",
       "    var manager = IPython.notebook.keyboard_manager;\n",
       "    if (!manager)\n",
       "        manager = IPython.keyboard_manager;\n",
       "\n",
       "    // Check for shift+enter\n",
       "    if (event.shiftKey && event.which == 13) {\n",
       "        this.canvas_div.blur();\n",
       "        // select the cell after this one\n",
       "        var index = IPython.notebook.find_cell_index(this.cell_info[0]);\n",
       "        IPython.notebook.select(index + 1);\n",
       "    }\n",
       "}\n",
       "\n",
       "mpl.figure.prototype.handle_save = function(fig, msg) {\n",
       "    fig.ondownload(fig, null);\n",
       "}\n",
       "\n",
       "\n",
       "mpl.find_output_cell = function(html_output) {\n",
       "    // Return the cell and output element which can be found *uniquely* in the notebook.\n",
       "    // Note - this is a bit hacky, but it is done because the \"notebook_saving.Notebook\"\n",
       "    // IPython event is triggered only after the cells have been serialised, which for\n",
       "    // our purposes (turning an active figure into a static one), is too late.\n",
       "    var cells = IPython.notebook.get_cells();\n",
       "    var ncells = cells.length;\n",
       "    for (var i=0; i<ncells; i++) {\n",
       "        var cell = cells[i];\n",
       "        if (cell.cell_type === 'code'){\n",
       "            for (var j=0; j<cell.output_area.outputs.length; j++) {\n",
       "                var data = cell.output_area.outputs[j];\n",
       "                if (data.data) {\n",
       "                    // IPython >= 3 moved mimebundle to data attribute of output\n",
       "                    data = data.data;\n",
       "                }\n",
       "                if (data['text/html'] == html_output) {\n",
       "                    return [cell, data, j];\n",
       "                }\n",
       "            }\n",
       "        }\n",
       "    }\n",
       "}\n",
       "\n",
       "// Register the function which deals with the matplotlib target/channel.\n",
       "// The kernel may be null if the page has been refreshed.\n",
       "if (IPython.notebook.kernel != null) {\n",
       "    IPython.notebook.kernel.comm_manager.register_target('matplotlib', mpl.mpl_figure_comm);\n",
       "}\n"
      ],
      "text/plain": [
       "<IPython.core.display.Javascript object>"
      ]
     },
     "metadata": {},
     "output_type": "display_data"
    },
    {
     "data": {
      "text/html": [
       "<img src=\"data:image/png;base64,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\" width=\"640\">"
      ],
      "text/plain": [
       "<IPython.core.display.HTML object>"
      ]
     },
     "metadata": {},
     "output_type": "display_data"
    },
    {
     "data": {
      "text/plain": [
       "<matplotlib.collections.PathCollection at 0x7f4713f77f98>"
      ]
     },
     "execution_count": 30,
     "metadata": {},
     "output_type": "execute_result"
    }
   ],
   "source": [
    "plt.figure()\n",
    "# plot a data series 'Tall students' in red using the first two elements of x and y\n",
    "plt.scatter(x[:2], y[:2], s=100, c='red', label='Tall students')\n",
    "# plot a second data series 'Short students' in blue using the last three elements of x and y \n",
    "plt.scatter(x[2:], y[2:], s=100, c='blue', label='Short students')"
   ]
  },
  {
   "cell_type": "code",
   "execution_count": 31,
   "metadata": {
    "collapsed": false
   },
   "outputs": [
    {
     "data": {
      "text/plain": [
       "<matplotlib.text.Text at 0x7f4713fd2c88>"
      ]
     },
     "execution_count": 31,
     "metadata": {},
     "output_type": "execute_result"
    }
   ],
   "source": [
    "# add a label to the x axis\n",
    "plt.xlabel('The number of times the child kicked a ball')\n",
    "# add a label to the y axis\n",
    "plt.ylabel('The grade of the student')\n",
    "# add a title\n",
    "plt.title('Relationship between ball kicking and grades')"
   ]
  },
  {
   "cell_type": "code",
   "execution_count": null,
   "metadata": {
    "collapsed": false
   },
   "outputs": [],
   "source": [
    "# add a legend (uses the labels from plt.scatter)\n",
    "plt.legend()"
   ]
  },
  {
   "cell_type": "code",
   "execution_count": 32,
   "metadata": {
    "collapsed": false
   },
   "outputs": [
    {
     "data": {
      "text/plain": [
       "<matplotlib.legend.Legend at 0x7f4713fce160>"
      ]
     },
     "execution_count": 32,
     "metadata": {},
     "output_type": "execute_result"
    }
   ],
   "source": [
    "# add the legend to loc=4 (the lower right hand corner), also gets rid of the frame and adds a title\n",
    "plt.legend(loc=4, frameon=False, title='Legend')"
   ]
  },
  {
   "cell_type": "code",
   "execution_count": null,
   "metadata": {
    "collapsed": false
   },
   "outputs": [],
   "source": [
    "# get children from current axes (the legend is the second to last item in this list)\n",
    "plt.gca().get_children()"
   ]
  },
  {
   "cell_type": "code",
   "execution_count": null,
   "metadata": {
    "collapsed": true
   },
   "outputs": [],
   "source": [
    "# get the legend from the current axes\n",
    "legend = plt.gca().get_children()[-2]"
   ]
  },
  {
   "cell_type": "code",
   "execution_count": null,
   "metadata": {
    "collapsed": false
   },
   "outputs": [],
   "source": [
    "# you can use get_children to navigate through the child artists\n",
    "legend.get_children()[0].get_children()[1].get_children()[0].get_children()"
   ]
  },
  {
   "cell_type": "code",
   "execution_count": null,
   "metadata": {
    "collapsed": false
   },
   "outputs": [],
   "source": [
    "# import the artist class from matplotlib\n",
    "from matplotlib.artist import Artist\n",
    "\n",
    "def rec_gc(art, depth=0):\n",
    "    if isinstance(art, Artist):\n",
    "        # increase the depth for pretty printing\n",
    "        print(\"  \" * depth + str(art))\n",
    "        for child in art.get_children():\n",
    "            rec_gc(child, depth+2)\n",
    "\n",
    "# Call this function on the legend artist to see what the legend is made up of\n",
    "rec_gc(plt.legend())"
   ]
  },
  {
   "cell_type": "markdown",
   "metadata": {},
   "source": [
    "# Line Plots"
   ]
  },
  {
   "cell_type": "code",
   "execution_count": null,
   "metadata": {
    "collapsed": false
   },
   "outputs": [],
   "source": [
    "import numpy as np\n",
    "\n",
    "linear_data = np.array([1,2,3,4,5,6,7,8])\n",
    "exponential_data = linear_data**2\n",
    "\n",
    "plt.figure()\n",
    "# plot the linear data and the exponential data\n",
    "plt.plot(linear_data, '-o', exponential_data, '-o')"
   ]
  },
  {
   "cell_type": "code",
   "execution_count": null,
   "metadata": {
    "collapsed": false
   },
   "outputs": [],
   "source": [
    "# plot another series with a dashed red line\n",
    "plt.plot([22,44,55], '--r')"
   ]
  },
  {
   "cell_type": "code",
   "execution_count": null,
   "metadata": {
    "collapsed": false
   },
   "outputs": [],
   "source": [
    "plt.xlabel('Some data')\n",
    "plt.ylabel('Some other data')\n",
    "plt.title('A title')\n",
    "# add a legend with legend entries (because we didn't have labels when we plotted the data series)\n",
    "plt.legend(['Baseline', 'Competition', 'Us'])"
   ]
  },
  {
   "cell_type": "code",
   "execution_count": null,
   "metadata": {
    "collapsed": false
   },
   "outputs": [],
   "source": [
    "# fill the area between the linear data and exponential data\n",
    "plt.gca().fill_between(range(len(linear_data)), \n",
    "                       linear_data, exponential_data, \n",
    "                       facecolor='blue', \n",
    "                       alpha=0.25)"
   ]
  },
  {
   "cell_type": "markdown",
   "metadata": {},
   "source": [
    "Let's try working with dates!"
   ]
  },
  {
   "cell_type": "code",
   "execution_count": null,
   "metadata": {
    "collapsed": false
   },
   "outputs": [],
   "source": [
    "plt.figure()\n",
    "\n",
    "observation_dates = np.arange('2017-01-01', '2017-01-09', dtype='datetime64[D]')\n",
    "\n",
    "plt.plot(observation_dates, linear_data, '-o',  observation_dates, exponential_data, '-o')"
   ]
  },
  {
   "cell_type": "markdown",
   "metadata": {},
   "source": [
    "Let's try using pandas"
   ]
  },
  {
   "cell_type": "code",
   "execution_count": null,
   "metadata": {
    "collapsed": false
   },
   "outputs": [],
   "source": [
    "import pandas as pd\n",
    "\n",
    "plt.figure()\n",
    "observation_dates = np.arange('2017-01-01', '2017-01-09', dtype='datetime64[D]')\n",
    "observation_dates = map(pd.to_datetime, observation_dates) # trying to plot a map will result in an error\n",
    "plt.plot(observation_dates, linear_data, '-o',  observation_dates, exponential_data, '-o')"
   ]
  },
  {
   "cell_type": "code",
   "execution_count": null,
   "metadata": {
    "collapsed": false
   },
   "outputs": [],
   "source": [
    "plt.figure()\n",
    "observation_dates = np.arange('2017-01-01', '2017-01-09', dtype='datetime64[D]')\n",
    "observation_dates = list(map(pd.to_datetime, observation_dates)) # convert the map to a list to get rid of the error\n",
    "plt.plot(observation_dates, linear_data, '-o',  observation_dates, exponential_data, '-o')"
   ]
  },
  {
   "cell_type": "code",
   "execution_count": null,
   "metadata": {
    "collapsed": false
   },
   "outputs": [],
   "source": [
    "x = plt.gca().xaxis\n",
    "\n",
    "# rotate the tick labels for the x axis\n",
    "for item in x.get_ticklabels():\n",
    "    item.set_rotation(45)"
   ]
  },
  {
   "cell_type": "code",
   "execution_count": null,
   "metadata": {
    "collapsed": false
   },
   "outputs": [],
   "source": [
    "# adjust the subplot so the text doesn't run off the image\n",
    "plt.subplots_adjust(bottom=0.25)"
   ]
  },
  {
   "cell_type": "code",
   "execution_count": null,
   "metadata": {
    "collapsed": false
   },
   "outputs": [],
   "source": [
    "ax = plt.gca()\n",
    "ax.set_xlabel('Date')\n",
    "ax.set_ylabel('Units')\n",
    "ax.set_title('Exponential vs. Linear performance')"
   ]
  },
  {
   "cell_type": "code",
   "execution_count": null,
   "metadata": {
    "collapsed": false
   },
   "outputs": [],
   "source": [
    "# you can add mathematical expressions in any text element\n",
    "ax.set_title(\"Exponential ($x^2$) vs. Linear ($x$) performance\")"
   ]
  },
  {
   "cell_type": "markdown",
   "metadata": {},
   "source": [
    "# Bar Charts"
   ]
  },
  {
   "cell_type": "code",
   "execution_count": null,
   "metadata": {
    "collapsed": false
   },
   "outputs": [],
   "source": [
    "plt.figure()\n",
    "xvals = range(len(linear_data))\n",
    "plt.bar(xvals, linear_data, width = 0.3)"
   ]
  },
  {
   "cell_type": "code",
   "execution_count": null,
   "metadata": {
    "collapsed": false
   },
   "outputs": [],
   "source": [
    "new_xvals = []\n",
    "\n",
    "# plot another set of bars, adjusting the new xvals to make up for the first set of bars plotted\n",
    "for item in xvals:\n",
    "    new_xvals.append(item+0.3)\n",
    "\n",
    "plt.bar(new_xvals, exponential_data, width = 0.3 ,color='red')"
   ]
  },
  {
   "cell_type": "code",
   "execution_count": null,
   "metadata": {
    "collapsed": false,
    "scrolled": true
   },
   "outputs": [],
   "source": [
    "from random import randint\n",
    "linear_err = [randint(0,15) for x in range(len(linear_data))] \n",
    "\n",
    "# This will plot a new set of bars with errorbars using the list of random error values\n",
    "plt.bar(xvals, linear_data, width = 0.3, yerr=linear_err)"
   ]
  },
  {
   "cell_type": "code",
   "execution_count": null,
   "metadata": {
    "collapsed": false
   },
   "outputs": [],
   "source": [
    "# stacked bar charts are also possible\n",
    "plt.figure()\n",
    "xvals = range(len(linear_data))\n",
    "plt.bar(xvals, linear_data, width = 0.3, color='b')\n",
    "plt.bar(xvals, exponential_data, width = 0.3, bottom=linear_data, color='r')"
   ]
  },
  {
   "cell_type": "code",
   "execution_count": null,
   "metadata": {
    "collapsed": false
   },
   "outputs": [],
   "source": [
    "# or use barh for horizontal bar charts\n",
    "plt.figure()\n",
    "xvals = range(len(linear_data))\n",
    "plt.barh(xvals, linear_data, height = 0.3, color='b')\n",
    "plt.barh(xvals, exponential_data, height = 0.3, left=linear_data, color='r')"
   ]
  }
 ],
 "metadata": {
  "kernelspec": {
   "display_name": "Python 3",
   "language": "python",
   "name": "python3"
  },
  "language_info": {
   "codemirror_mode": {
    "name": "ipython",
    "version": 3
   },
   "file_extension": ".py",
   "mimetype": "text/x-python",
   "name": "python",
   "nbconvert_exporter": "python",
   "pygments_lexer": "ipython3",
   "version": "3.5.2"
  }
 },
 "nbformat": 4,
 "nbformat_minor": 1
}
